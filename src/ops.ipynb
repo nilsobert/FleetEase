{
 "cells": [
  {
   "cell_type": "code",
   "execution_count": 1,
   "metadata": {},
   "outputs": [],
   "source": [
    "from api.api import API\n",
    "import asyncio"
   ]
  },
  {
   "cell_type": "code",
   "execution_count": 2,
   "metadata": {},
   "outputs": [],
   "source": [
    "#api = API()\n",
    "#await api.delete_all_scenarios()"
   ]
  },
  {
   "cell_type": "code",
   "execution_count": 3,
   "metadata": {},
   "outputs": [],
   "source": [
    "api = API()\n",
    "num_vehicles = 2\n",
    "num_customers =2\n",
    "scenario, vehicles, customers = await api.create_and_query_scenario(num_of_customers = num_customers, num_of_vehicles = num_vehicles)\n"
   ]
  },
  {
   "cell_type": "code",
   "execution_count": 4,
   "metadata": {},
   "outputs": [],
   "source": [
    "\n",
    "await api.launch_scenario(speed=0.5, scenario=scenario)"
   ]
  },
  {
   "cell_type": "code",
   "execution_count": 5,
   "metadata": {},
   "outputs": [
    {
     "name": "stdout",
     "output_type": "stream",
     "text": [
      "[Vehicle(\n",
      "    activeTime=None,\n",
      "    coordX=48.157726,\n",
      "    coordY=11.610037,\n",
      "    customerId=None,\n",
      "    distanceTravelled=None,\n",
      "    id=4377279d-1f9e-405d-bb6b-ef888fced9f5,\n",
      "    isAvailable=True,\n",
      "    numberOfTrips=None,\n",
      "    remainingTravelTime=None,\n",
      "    vehicleSpeed=None\n",
      "), Vehicle(\n",
      "    activeTime=None,\n",
      "    coordX=48.116814,\n",
      "    coordY=11.522896,\n",
      "    customerId=None,\n",
      "    distanceTravelled=None,\n",
      "    id=c5ad0392-3405-47c5-8a40-712e2ea5cce5,\n",
      "    isAvailable=True,\n",
      "    numberOfTrips=None,\n",
      "    remainingTravelTime=None,\n",
      "    vehicleSpeed=None\n",
      ")]\n"
     ]
    }
   ],
   "source": [
    "result = await api.get_all_vehicles_for_scenario(scenario=scenario)\n",
    "car = result[0]\n",
    "reslut = await api.get_customers_for_scenario(scenario=scenario)\n",
    "person = reslut[0]\n",
    "print(result)"
   ]
  },
  {
   "cell_type": "code",
   "execution_count": 6,
   "metadata": {},
   "outputs": [
    {
     "name": "stdout",
     "output_type": "stream",
     "text": [
      "bc8ae75b-9991-423c-ade5-af8ffc830c7c\n",
      "ec93eead-10e4-4bd3-8ac1-cd0870ece7e6\n"
     ]
    }
   ],
   "source": [
    "print(scenario.id)\n",
    "print(person.id)"
   ]
  },
  {
   "cell_type": "code",
   "execution_count": 7,
   "metadata": {},
   "outputs": [
    {
     "name": "stdout",
     "output_type": "stream",
     "text": [
      "http://159.65.113.122:8090/Scenarios/update_scenario/bc8ae75b-9991-423c-ade5-af8ffc830c7c\n",
      "{'vehicles': [{'id': '4377279d-1f9e-405d-bb6b-ef888fced9f5', 'customerId': 'ec93eead-10e4-4bd3-8ac1-cd0870ece7e6'}]}\n",
      "bc8ae75b-9991-423c-ade5-af8ffc830c7c\n",
      "[Vehicle(\n",
      "    activeTime=None,\n",
      "    coordX=48.157726,\n",
      "    coordY=11.610037,\n",
      "    customerId=None,\n",
      "    distanceTravelled=None,\n",
      "    id=4377279d-1f9e-405d-bb6b-ef888fced9f5,\n",
      "    isAvailable=True,\n",
      "    numberOfTrips=None,\n",
      "    remainingTravelTime=None,\n",
      "    vehicleSpeed=None\n",
      "), Vehicle(\n",
      "    activeTime=None,\n",
      "    coordX=48.116814,\n",
      "    coordY=11.522896,\n",
      "    customerId=None,\n",
      "    distanceTravelled=None,\n",
      "    id=c5ad0392-3405-47c5-8a40-712e2ea5cce5,\n",
      "    isAvailable=True,\n",
      "    numberOfTrips=None,\n",
      "    remainingTravelTime=None,\n",
      "    vehicleSpeed=None\n",
      ")]\n"
     ]
    }
   ],
   "source": [
    "x = await api.update_scenario(scenario=scenario, vehicle=car, customer=person)\n",
    "print(x)\n",
    "import time\n",
    "#time.sleep(1)\n",
    "reslut = await api.get_all_vehicles_for_scenario(scenario=scenario)\n",
    "print(scenario.id)\n",
    "print(reslut)"
   ]
  },
  {
   "cell_type": "code",
   "execution_count": 8,
   "metadata": {},
   "outputs": [
    {
     "data": {
      "text/plain": [
       "{'failedToUpdate': ['03ecc9e8-86ad-443b-ab6a-379943e5f5af'],\n",
       " 'updatedVehicles': []}"
      ]
     },
     "execution_count": 8,
     "metadata": {},
     "output_type": "execute_result"
    }
   ],
   "source": [
    "import httpx\n",
    "import json\n",
    "\n",
    "async def update_scenario(scenario_id, vehicles, base_url=\"http://159.65.113.122:8090\"):\n",
    "    url = f\"{base_url}/Scenarios/update_scenario/{scenario_id}\"\n",
    "    payload = {\"vehicles\": vehicles}\n",
    "\n",
    "    #headers = {\n",
    "    #    \"Content-Type\": \"application/json\",\n",
    "    #    \"User-Agent\": \"python-httpx/0.27.0\",\n",
    "    #}\n",
    "\n",
    "    try:\n",
    "        async with httpx.AsyncClient() as client:\n",
    "            response = await client.put(url, json=payload)\n",
    "            response.raise_for_status()  # Raise an error for HTTP status codes >= 400\n",
    "            return response.json()\n",
    "    except httpx.RequestError as e:\n",
    "        print(f\"Request failed: {e}\")\n",
    "        return None\n",
    "    except httpx.HTTPStatusError as e:\n",
    "        print(f\"HTTP error: {e.response.status_code}, {e.response.text}\")\n",
    "        return None\n",
    "\n",
    "# Example usage:\n",
    "import asyncio\n",
    "\n",
    "scenario_id = \"67f0736f-88cc-4073-b534-dd15a3e4cddc\"\n",
    "vehicles = [\n",
    "    {\"id\": \"03ecc9e8-86ad-443b-ab6a-379943e5f5af\", \"customerId\": \"ed63c948-1059-4d2d-976e-e918795f4e7d\"}\n",
    "]\n",
    "\n",
    "await update_scenario(scenario_id, vehicles)\n"
   ]
  }
 ],
 "metadata": {
  "kernelspec": {
   "display_name": "hack24",
   "language": "python",
   "name": "python3"
  },
  "language_info": {
   "codemirror_mode": {
    "name": "ipython",
    "version": 3
   },
   "file_extension": ".py",
   "mimetype": "text/x-python",
   "name": "python",
   "nbconvert_exporter": "python",
   "pygments_lexer": "ipython3",
   "version": "3.10.15"
  }
 },
 "nbformat": 4,
 "nbformat_minor": 2
}
